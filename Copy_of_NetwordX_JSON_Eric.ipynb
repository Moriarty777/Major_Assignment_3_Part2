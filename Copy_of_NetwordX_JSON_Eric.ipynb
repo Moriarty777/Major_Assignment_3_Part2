{
  "nbformat": 4,
  "nbformat_minor": 0,
  "metadata": {
    "colab": {
      "provenance": []
    },
    "kernelspec": {
      "name": "python3",
      "display_name": "Python 3"
    },
    "language_info": {
      "name": "python"
    }
  },
  "cells": [
    {
      "cell_type": "code",
      "source": [
        "import pandas as pd\n",
        "import networkx as nx\n",
        "import json\n",
        "pd.set_option('display.max_columns', None)\n",
        "import matplotlib.pyplot as plt\n",
        "import pprint\n"
      ],
      "metadata": {
        "id": "OC3JY0_2wwrp"
      },
      "execution_count": 22,
      "outputs": []
    },
    {
      "cell_type": "code",
      "source": [
        "df = pd.read_csv(\"https://raw.githubusercontent.com/umassdgithub/Week-8-part-1/main/data/data_scopus.csv\")\n",
        "## drop the rows with no Author Affiliations\n",
        "\n",
        "df= df[~pd.isnull(df['Authors with affiliations'])].copy()"
      ],
      "metadata": {
        "id": "RtP_V6zMxZeL"
      },
      "execution_count": 23,
      "outputs": []
    },
    {
      "cell_type": "code",
      "source": [
        "df.head(2)"
      ],
      "metadata": {
        "colab": {
          "base_uri": "https://localhost:8080/",
          "height": 419
        },
        "id": "dgNrTiCBTIgR",
        "outputId": "846e7e2c-c965-4fb1-c4f9-ae90688a5792"
      },
      "execution_count": 24,
      "outputs": [
        {
          "output_type": "execute_result",
          "data": {
            "text/plain": [
              "                                               Title  Year  \\\n",
              "0  Virtual reality applications for the built env...  2020   \n",
              "1  Self-tracking while doing sport: Comfort, moti...  2020   \n",
              "\n",
              "                  EID                                           Abstract  \\\n",
              "0  2-s2.0-85086464158  With its advanced capabilities of immersive an...   \n",
              "1  2-s2.0-85082875828  The spread of wearable technologies is paving ...   \n",
              "\n",
              "        Publisher Conference name Conference date  \\\n",
              "0   Elsevier B.V.             NaN             NaN   \n",
              "1  Academic Press             NaN             NaN   \n",
              "\n",
              "                                       Authors  \\\n",
              "0  Zhang Y., Liu H., Kang S.-C., Al-Hussein M.   \n",
              "1                         Rapp A., Tirabeni L.   \n",
              "\n",
              "                                      Author(s) ID  \\\n",
              "0  57202536919;53984550800;57215426514;6603541102;   \n",
              "1                         23398572100;57191836654;   \n",
              "\n",
              "                           Authors with affiliations  \\\n",
              "0  Zhang, Y., Department of Civil and Environment...   \n",
              "1  Rapp, A., Computer Science Department, Univers...   \n",
              "\n",
              "                                      Source title Abbreviated Source Title  \\\n",
              "0                       Automation in Construction             Autom Constr   \n",
              "1  International Journal of Human Computer Studies    Int J Hum Comput Stud   \n",
              "\n",
              "   Cited by  \n",
              "0       NaN  \n",
              "1       NaN  "
            ],
            "text/html": [
              "\n",
              "  <div id=\"df-2142a09f-6212-45e8-8354-87099ac7a06c\">\n",
              "    <div class=\"colab-df-container\">\n",
              "      <div>\n",
              "<style scoped>\n",
              "    .dataframe tbody tr th:only-of-type {\n",
              "        vertical-align: middle;\n",
              "    }\n",
              "\n",
              "    .dataframe tbody tr th {\n",
              "        vertical-align: top;\n",
              "    }\n",
              "\n",
              "    .dataframe thead th {\n",
              "        text-align: right;\n",
              "    }\n",
              "</style>\n",
              "<table border=\"1\" class=\"dataframe\">\n",
              "  <thead>\n",
              "    <tr style=\"text-align: right;\">\n",
              "      <th></th>\n",
              "      <th>Title</th>\n",
              "      <th>Year</th>\n",
              "      <th>EID</th>\n",
              "      <th>Abstract</th>\n",
              "      <th>Publisher</th>\n",
              "      <th>Conference name</th>\n",
              "      <th>Conference date</th>\n",
              "      <th>Authors</th>\n",
              "      <th>Author(s) ID</th>\n",
              "      <th>Authors with affiliations</th>\n",
              "      <th>Source title</th>\n",
              "      <th>Abbreviated Source Title</th>\n",
              "      <th>Cited by</th>\n",
              "    </tr>\n",
              "  </thead>\n",
              "  <tbody>\n",
              "    <tr>\n",
              "      <th>0</th>\n",
              "      <td>Virtual reality applications for the built env...</td>\n",
              "      <td>2020</td>\n",
              "      <td>2-s2.0-85086464158</td>\n",
              "      <td>With its advanced capabilities of immersive an...</td>\n",
              "      <td>Elsevier B.V.</td>\n",
              "      <td>NaN</td>\n",
              "      <td>NaN</td>\n",
              "      <td>Zhang Y., Liu H., Kang S.-C., Al-Hussein M.</td>\n",
              "      <td>57202536919;53984550800;57215426514;6603541102;</td>\n",
              "      <td>Zhang, Y., Department of Civil and Environment...</td>\n",
              "      <td>Automation in Construction</td>\n",
              "      <td>Autom Constr</td>\n",
              "      <td>NaN</td>\n",
              "    </tr>\n",
              "    <tr>\n",
              "      <th>1</th>\n",
              "      <td>Self-tracking while doing sport: Comfort, moti...</td>\n",
              "      <td>2020</td>\n",
              "      <td>2-s2.0-85082875828</td>\n",
              "      <td>The spread of wearable technologies is paving ...</td>\n",
              "      <td>Academic Press</td>\n",
              "      <td>NaN</td>\n",
              "      <td>NaN</td>\n",
              "      <td>Rapp A., Tirabeni L.</td>\n",
              "      <td>23398572100;57191836654;</td>\n",
              "      <td>Rapp, A., Computer Science Department, Univers...</td>\n",
              "      <td>International Journal of Human Computer Studies</td>\n",
              "      <td>Int J Hum Comput Stud</td>\n",
              "      <td>NaN</td>\n",
              "    </tr>\n",
              "  </tbody>\n",
              "</table>\n",
              "</div>\n",
              "      <button class=\"colab-df-convert\" onclick=\"convertToInteractive('df-2142a09f-6212-45e8-8354-87099ac7a06c')\"\n",
              "              title=\"Convert this dataframe to an interactive table.\"\n",
              "              style=\"display:none;\">\n",
              "        \n",
              "  <svg xmlns=\"http://www.w3.org/2000/svg\" height=\"24px\"viewBox=\"0 0 24 24\"\n",
              "       width=\"24px\">\n",
              "    <path d=\"M0 0h24v24H0V0z\" fill=\"none\"/>\n",
              "    <path d=\"M18.56 5.44l.94 2.06.94-2.06 2.06-.94-2.06-.94-.94-2.06-.94 2.06-2.06.94zm-11 1L8.5 8.5l.94-2.06 2.06-.94-2.06-.94L8.5 2.5l-.94 2.06-2.06.94zm10 10l.94 2.06.94-2.06 2.06-.94-2.06-.94-.94-2.06-.94 2.06-2.06.94z\"/><path d=\"M17.41 7.96l-1.37-1.37c-.4-.4-.92-.59-1.43-.59-.52 0-1.04.2-1.43.59L10.3 9.45l-7.72 7.72c-.78.78-.78 2.05 0 2.83L4 21.41c.39.39.9.59 1.41.59.51 0 1.02-.2 1.41-.59l7.78-7.78 2.81-2.81c.8-.78.8-2.07 0-2.86zM5.41 20L4 18.59l7.72-7.72 1.47 1.35L5.41 20z\"/>\n",
              "  </svg>\n",
              "      </button>\n",
              "      \n",
              "  <style>\n",
              "    .colab-df-container {\n",
              "      display:flex;\n",
              "      flex-wrap:wrap;\n",
              "      gap: 12px;\n",
              "    }\n",
              "\n",
              "    .colab-df-convert {\n",
              "      background-color: #E8F0FE;\n",
              "      border: none;\n",
              "      border-radius: 50%;\n",
              "      cursor: pointer;\n",
              "      display: none;\n",
              "      fill: #1967D2;\n",
              "      height: 32px;\n",
              "      padding: 0 0 0 0;\n",
              "      width: 32px;\n",
              "    }\n",
              "\n",
              "    .colab-df-convert:hover {\n",
              "      background-color: #E2EBFA;\n",
              "      box-shadow: 0px 1px 2px rgba(60, 64, 67, 0.3), 0px 1px 3px 1px rgba(60, 64, 67, 0.15);\n",
              "      fill: #174EA6;\n",
              "    }\n",
              "\n",
              "    [theme=dark] .colab-df-convert {\n",
              "      background-color: #3B4455;\n",
              "      fill: #D2E3FC;\n",
              "    }\n",
              "\n",
              "    [theme=dark] .colab-df-convert:hover {\n",
              "      background-color: #434B5C;\n",
              "      box-shadow: 0px 1px 3px 1px rgba(0, 0, 0, 0.15);\n",
              "      filter: drop-shadow(0px 1px 2px rgba(0, 0, 0, 0.3));\n",
              "      fill: #FFFFFF;\n",
              "    }\n",
              "  </style>\n",
              "\n",
              "      <script>\n",
              "        const buttonEl =\n",
              "          document.querySelector('#df-2142a09f-6212-45e8-8354-87099ac7a06c button.colab-df-convert');\n",
              "        buttonEl.style.display =\n",
              "          google.colab.kernel.accessAllowed ? 'block' : 'none';\n",
              "\n",
              "        async function convertToInteractive(key) {\n",
              "          const element = document.querySelector('#df-2142a09f-6212-45e8-8354-87099ac7a06c');\n",
              "          const dataTable =\n",
              "            await google.colab.kernel.invokeFunction('convertToInteractive',\n",
              "                                                     [key], {});\n",
              "          if (!dataTable) return;\n",
              "\n",
              "          const docLinkHtml = 'Like what you see? Visit the ' +\n",
              "            '<a target=\"_blank\" href=https://colab.research.google.com/notebooks/data_table.ipynb>data table notebook</a>'\n",
              "            + ' to learn more about interactive tables.';\n",
              "          element.innerHTML = '';\n",
              "          dataTable['output_type'] = 'display_data';\n",
              "          await google.colab.output.renderOutput(dataTable, element);\n",
              "          const docLink = document.createElement('div');\n",
              "          docLink.innerHTML = docLinkHtml;\n",
              "          element.appendChild(docLink);\n",
              "        }\n",
              "      </script>\n",
              "    </div>\n",
              "  </div>\n",
              "  "
            ]
          },
          "metadata": {},
          "execution_count": 24
        }
      ]
    },
    {
      "cell_type": "code",
      "source": [
        "def get_first_author_affilation(x):\n",
        "  try:\n",
        "    return x.split(\";\")[0].split(\",\")[-1].strip()\n",
        "  except Exception as ex:\n",
        "    print(x)\n",
        "df['First_author_Country']=df['Authors with affiliations'].apply(get_first_author_affilation)"
      ],
      "metadata": {
        "id": "klz7s_GKtorJ"
      },
      "execution_count": 25,
      "outputs": []
    },
    {
      "cell_type": "code",
      "source": [
        "df['First_author_Country']"
      ],
      "metadata": {
        "colab": {
          "base_uri": "https://localhost:8080/"
        },
        "id": "Wd03qWOeuelD",
        "outputId": "17ecc9df-3967-4eb9-ced9-8b3df72627de"
      },
      "execution_count": 26,
      "outputs": [
        {
          "output_type": "execute_result",
          "data": {
            "text/plain": [
              "0             Canada\n",
              "1              Italy\n",
              "2             Serbia\n",
              "3              Japan\n",
              "4              India\n",
              "           ...      \n",
              "565           Canada\n",
              "566    United States\n",
              "567      South Korea\n",
              "568    United States\n",
              "569           Canada\n",
              "Name: First_author_Country, Length: 561, dtype: object"
            ]
          },
          "metadata": {},
          "execution_count": 26
        }
      ]
    },
    {
      "cell_type": "code",
      "source": [
        "df.Year.hist()"
      ],
      "metadata": {
        "colab": {
          "base_uri": "https://localhost:8080/",
          "height": 282
        },
        "id": "J74087v2rECw",
        "outputId": "aeaa5de5-0cf3-4e0a-b489-2efa7015a6f9"
      },
      "execution_count": 27,
      "outputs": [
        {
          "output_type": "execute_result",
          "data": {
            "text/plain": [
              "<matplotlib.axes._subplots.AxesSubplot at 0x7f686748e3d0>"
            ]
          },
          "metadata": {},
          "execution_count": 27
        },
        {
          "output_type": "display_data",
          "data": {
            "text/plain": [
              "<Figure size 432x288 with 1 Axes>"
            ],
            "image/png": "[encoded data removed]"
          },
          "metadata": {
            "needs_background": "light"
          }
        }
      ]
    },
    {
      "cell_type": "code",
      "source": [
        "df[\"Source title\"].value_counts().reset_index()\n"
      ],
      "metadata": {
        "colab": {
          "base_uri": "https://localhost:8080/",
          "height": 739
        },
        "id": "Sn9CyJO6rT0-",
        "outputId": "bff56e29-5762-44e8-f0fd-78d7e161f597"
      },
      "execution_count": 28,
      "outputs": [
        {
          "output_type": "execute_result",
          "data": {
            "text/plain": [
              "                                                index  Source title\n",
              "0   Proc. of the IADIS Int. Conf. Computer Graphic...            55\n",
              "1   MCCSIS 2018 - Multi Conference on Computer Sci...            53\n",
              "2   Proceedings of the International Conferences o...            49\n",
              "3    Proceedings of the IEEE Visualization Conference            48\n",
              "4   Proceedings of the IEEE Symposium on Informati...            41\n",
              "5   Lecture Notes in Artificial Intelligence (Subs...            35\n",
              "6   International Multidisciplinary Scientific Geo...            32\n",
              "7   Proceedings of the ACM Symposium on Applied Co...            32\n",
              "8     International Journal of Human Computer Studies            29\n",
              "9   IS and T International Symposium on Electronic...            25\n",
              "10  Proceedings of the Annual Hawaii International...            22\n",
              "11                                     Neurocomputing            19\n",
              "12                          Computers and Geosciences            17\n",
              "13  Proceedings of the International Joint Confere...            15\n",
              "14     Cartography and Geographic Information Science            15\n",
              "15               Environmental Modelling and Software            15\n",
              "16                         Automation in Construction            14\n",
              "17                  Journal of Biomedical Informatics            13\n",
              "18                   Expert Systems with Applications            12\n",
              "19  IOP Conference Series: Earth and Environmental...             8\n",
              "20                  Multimedia Tools and Applications             8\n",
              "21                                       BMC Genomics             4"
            ],
            "text/html": [
              "\n",
              "  <div id=\"df-58a088cf-626d-4b20-b989-bcbedbdd7ff3\">\n",
              "    <div class=\"colab-df-container\">\n",
              "      <div>\n",
              "<style scoped>\n",
              "    .dataframe tbody tr th:only-of-type {\n",
              "        vertical-align: middle;\n",
              "    }\n",
              "\n",
              "    .dataframe tbody tr th {\n",
              "        vertical-align: top;\n",
              "    }\n",
              "\n",
              "    .dataframe thead th {\n",
              "        text-align: right;\n",
              "    }\n",
              "</style>\n",
              "<table border=\"1\" class=\"dataframe\">\n",
              "  <thead>\n",
              "    <tr style=\"text-align: right;\">\n",
              "      <th></th>\n",
              "      <th>index</th>\n",
              "      <th>Source title</th>\n",
              "    </tr>\n",
              "  </thead>\n",
              "  <tbody>\n",
              "    <tr>\n",
              "      <th>0</th>\n",
              "      <td>Proc. of the IADIS Int. Conf. Computer Graphic...</td>\n",
              "      <td>55</td>\n",
              "    </tr>\n",
              "    <tr>\n",
              "      <th>1</th>\n",
              "      <td>MCCSIS 2018 - Multi Conference on Computer Sci...</td>\n",
              "      <td>53</td>\n",
              "    </tr>\n",
              "    <tr>\n",
              "      <th>2</th>\n",
              "      <td>Proceedings of the International Conferences o...</td>\n",
              "      <td>49</td>\n",
              "    </tr>\n",
              "    <tr>\n",
              "      <th>3</th>\n",
              "      <td>Proceedings of the IEEE Visualization Conference</td>\n",
              "      <td>48</td>\n",
              "    </tr>\n",
              "    <tr>\n",
              "      <th>4</th>\n",
              "      <td>Proceedings of the IEEE Symposium on Informati...</td>\n",
              "      <td>41</td>\n",
              "    </tr>\n",
              "    <tr>\n",
              "      <th>5</th>\n",
              "      <td>Lecture Notes in Artificial Intelligence (Subs...</td>\n",
              "      <td>35</td>\n",
              "    </tr>\n",
              "    <tr>\n",
              "      <th>6</th>\n",
              "      <td>International Multidisciplinary Scientific Geo...</td>\n",
              "      <td>32</td>\n",
              "    </tr>\n",
              "    <tr>\n",
              "      <th>7</th>\n",
              "      <td>Proceedings of the ACM Symposium on Applied Co...</td>\n",
              "      <td>32</td>\n",
              "    </tr>\n",
              "    <tr>\n",
              "      <th>8</th>\n",
              "      <td>International Journal of Human Computer Studies</td>\n",
              "      <td>29</td>\n",
              "    </tr>\n",
              "    <tr>\n",
              "      <th>9</th>\n",
              "      <td>IS and T International Symposium on Electronic...</td>\n",
              "      <td>25</td>\n",
              "    </tr>\n",
              "    <tr>\n",
              "      <th>10</th>\n",
              "      <td>Proceedings of the Annual Hawaii International...</td>\n",
              "      <td>22</td>\n",
              "    </tr>\n",
              "    <tr>\n",
              "      <th>11</th>\n",
              "      <td>Neurocomputing</td>\n",
              "      <td>19</td>\n",
              "    </tr>\n",
              "    <tr>\n",
              "      <th>12</th>\n",
              "      <td>Computers and Geosciences</td>\n",
              "      <td>17</td>\n",
              "    </tr>\n",
              "    <tr>\n",
              "      <th>13</th>\n",
              "      <td>Proceedings of the International Joint Confere...</td>\n",
              "      <td>15</td>\n",
              "    </tr>\n",
              "    <tr>\n",
              "      <th>14</th>\n",
              "      <td>Cartography and Geographic Information Science</td>\n",
              "      <td>15</td>\n",
              "    </tr>\n",
              "    <tr>\n",
              "      <th>15</th>\n",
              "      <td>Environmental Modelling and Software</td>\n",
              "      <td>15</td>\n",
              "    </tr>\n",
              "    <tr>\n",
              "      <th>16</th>\n",
              "      <td>Automation in Construction</td>\n",
              "      <td>14</td>\n",
              "    </tr>\n",
              "    <tr>\n",
              "      <th>17</th>\n",
              "      <td>Journal of Biomedical Informatics</td>\n",
              "      <td>13</td>\n",
              "    </tr>\n",
              "    <tr>\n",
              "      <th>18</th>\n",
              "      <td>Expert Systems with Applications</td>\n",
              "      <td>12</td>\n",
              "    </tr>\n",
              "    <tr>\n",
              "      <th>19</th>\n",
              "      <td>IOP Conference Series: Earth and Environmental...</td>\n",
              "      <td>8</td>\n",
              "    </tr>\n",
              "    <tr>\n",
              "      <th>20</th>\n",
              "      <td>Multimedia Tools and Applications</td>\n",
              "      <td>8</td>\n",
              "    </tr>\n",
              "    <tr>\n",
              "      <th>21</th>\n",
              "      <td>BMC Genomics</td>\n",
              "      <td>4</td>\n",
              "    </tr>\n",
              "  </tbody>\n",
              "</table>\n",
              "</div>\n",
              "      <button class=\"colab-df-convert\" onclick=\"convertToInteractive('df-58a088cf-626d-4b20-b989-bcbedbdd7ff3')\"\n",
              "              title=\"Convert this dataframe to an interactive table.\"\n",
              "              style=\"display:none;\">\n",
              "        \n",
              "  <svg xmlns=\"http://www.w3.org/2000/svg\" height=\"24px\"viewBox=\"0 0 24 24\"\n",
              "       width=\"24px\">\n",
              "    <path d=\"M0 0h24v24H0V0z\" fill=\"none\"/>\n",
              "    <path d=\"M18.56 5.44l.94 2.06.94-2.06 2.06-.94-2.06-.94-.94-2.06-.94 2.06-2.06.94zm-11 1L8.5 8.5l.94-2.06 2.06-.94-2.06-.94L8.5 2.5l-.94 2.06-2.06.94zm10 10l.94 2.06.94-2.06 2.06-.94-2.06-.94-.94-2.06-.94 2.06-2.06.94z\"/><path d=\"M17.41 7.96l-1.37-1.37c-.4-.4-.92-.59-1.43-.59-.52 0-1.04.2-1.43.59L10.3 9.45l-7.72 7.72c-.78.78-.78 2.05 0 2.83L4 21.41c.39.39.9.59 1.41.59.51 0 1.02-.2 1.41-.59l7.78-7.78 2.81-2.81c.8-.78.8-2.07 0-2.86zM5.41 20L4 18.59l7.72-7.72 1.47 1.35L5.41 20z\"/>\n",
              "  </svg>\n",
              "      </button>\n",
              "      \n",
              "  <style>\n",
              "    .colab-df-container {\n",
              "      display:flex;\n",
              "      flex-wrap:wrap;\n",
              "      gap: 12px;\n",
              "    }\n",
              "\n",
              "    .colab-df-convert {\n",
              "      background-color: #E8F0FE;\n",
              "      border: none;\n",
              "      border-radius: 50%;\n",
              "      cursor: pointer;\n",
              "      display: none;\n",
              "      fill: #1967D2;\n",
              "      height: 32px;\n",
              "      padding: 0 0 0 0;\n",
              "      width: 32px;\n",
              "    }\n",
              "\n",
              "    .colab-df-convert:hover {\n",
              "      background-color: #E2EBFA;\n",
              "      box-shadow: 0px 1px 2px rgba(60, 64, 67, 0.3), 0px 1px 3px 1px rgba(60, 64, 67, 0.15);\n",
              "      fill: #174EA6;\n",
              "    }\n",
              "\n",
              "    [theme=dark] .colab-df-convert {\n",
              "      background-color: #3B4455;\n",
              "      fill: #D2E3FC;\n",
              "    }\n",
              "\n",
              "    [theme=dark] .colab-df-convert:hover {\n",
              "      background-color: #434B5C;\n",
              "      box-shadow: 0px 1px 3px 1px rgba(0, 0, 0, 0.15);\n",
              "      filter: drop-shadow(0px 1px 2px rgba(0, 0, 0, 0.3));\n",
              "      fill: #FFFFFF;\n",
              "    }\n",
              "  </style>\n",
              "\n",
              "      <script>\n",
              "        const buttonEl =\n",
              "          document.querySelector('#df-58a088cf-626d-4b20-b989-bcbedbdd7ff3 button.colab-df-convert');\n",
              "        buttonEl.style.display =\n",
              "          google.colab.kernel.accessAllowed ? 'block' : 'none';\n",
              "\n",
              "        async function convertToInteractive(key) {\n",
              "          const element = document.querySelector('#df-58a088cf-626d-4b20-b989-bcbedbdd7ff3');\n",
              "          const dataTable =\n",
              "            await google.colab.kernel.invokeFunction('convertToInteractive',\n",
              "                                                     [key], {});\n",
              "          if (!dataTable) return;\n",
              "\n",
              "          const docLinkHtml = 'Like what you see? Visit the ' +\n",
              "            '<a target=\"_blank\" href=https://colab.research.google.com/notebooks/data_table.ipynb>data table notebook</a>'\n",
              "            + ' to learn more about interactive tables.';\n",
              "          element.innerHTML = '';\n",
              "          dataTable['output_type'] = 'display_data';\n",
              "          await google.colab.output.renderOutput(dataTable, element);\n",
              "          const docLink = document.createElement('div');\n",
              "          docLink.innerHTML = docLinkHtml;\n",
              "          element.appendChild(docLink);\n",
              "        }\n",
              "      </script>\n",
              "    </div>\n",
              "  </div>\n",
              "  "
            ]
          },
          "metadata": {},
          "execution_count": 28
        }
      ]
    },
    {
      "cell_type": "code",
      "source": [
        "nodes = df['EID'].values\n",
        "df = df.fillna(0)"
      ],
      "metadata": {
        "id": "Z_U5IzJQxcaH"
      },
      "execution_count": 29,
      "outputs": []
    },
    {
      "cell_type": "code",
      "source": [
        "df['Year'].min()"
      ],
      "metadata": {
        "colab": {
          "base_uri": "https://localhost:8080/"
        },
        "id": "DgQVBdEI18ep",
        "outputId": "eb43f596-09b9-43de-84ec-b4bccd26d6fe"
      },
      "execution_count": 30,
      "outputs": [
        {
          "output_type": "execute_result",
          "data": {
            "text/plain": [
              "1995"
            ]
          },
          "metadata": {},
          "execution_count": 30
        }
      ]
    },
    {
      "cell_type": "code",
      "source": [
        "G = nx.Graph()"
      ],
      "metadata": {
        "id": "icYRPfKSxds2"
      },
      "execution_count": 31,
      "outputs": []
    },
    {
      "cell_type": "code",
      "source": [
        "nodes = []\n",
        "for row in df.iterrows():\n",
        "  nodes.append((row[1]['EID'],{\n",
        "      \"Title\": row[1]['Title'],\n",
        "      \"Year\" : row[1]['Year'],\n",
        "      \"Citations\" : row[1]['Cited by'],\n",
        "      \"Publisher\" : row[1]['Publisher'],\n",
        "      \"First_author_Country\" : row[1]['First_author_Country']\n",
        "  }))"
      ],
      "metadata": {
        "id": "2kIj1wG831Xb"
      },
      "execution_count": 32,
      "outputs": []
    },
    {
      "cell_type": "code",
      "source": [
        "len(nodes)"
      ],
      "metadata": {
        "colab": {
          "base_uri": "https://localhost:8080/"
        },
        "id": "7GCstulbjita",
        "outputId": "4dd5dfe8-626e-4a86-8591-6f43142aa02e"
      },
      "execution_count": 33,
      "outputs": [
        {
          "output_type": "execute_result",
          "data": {
            "text/plain": [
              "561"
            ]
          },
          "metadata": {},
          "execution_count": 33
        }
      ]
    },
    {
      "cell_type": "code",
      "source": [
        "nodes[0]"
      ],
      "metadata": {
        "colab": {
          "base_uri": "https://localhost:8080/"
        },
        "id": "PcEXS238bPZI",
        "outputId": "3208446a-84ac-4987-e0ea-68008727e2f5"
      },
      "execution_count": 34,
      "outputs": [
        {
          "output_type": "execute_result",
          "data": {
            "text/plain": [
              "('2-s2.0-85086464158',\n",
              " {'Title': 'Virtual reality applications for the built environment: Research trends and opportunities',\n",
              "  'Year': 2020,\n",
              "  'Citations': 0.0,\n",
              "  'Publisher': 'Elsevier B.V.',\n",
              "  'First_author_Country': 'Canada'})"
            ]
          },
          "metadata": {},
          "execution_count": 34
        }
      ]
    },
    {
      "cell_type": "code",
      "source": [
        "G.add_nodes_from(nodes)"
      ],
      "metadata": {
        "id": "jHGhaKMvyBkB"
      },
      "execution_count": 35,
      "outputs": []
    },
    {
      "cell_type": "code",
      "source": [
        "edges = []\n",
        "for row in df.iterrows():\n",
        "  current_paper = row[1]['EID']\n",
        "  if \";\" in row[1]['Author(s) ID']: \n",
        "    authors = row[1]['Author(s) ID'][:-1].split(\";\")\n",
        "    for author in authors:\n",
        "      papers = df[df['Author(s) ID'].str.contains(author)]['EID'].values\n",
        "      if len(papers)>0:\n",
        "        for paper in papers:\n",
        "          if paper != current_paper:\n",
        "            edges.append((current_paper,paper))\n",
        "  else:\n",
        "    continue"
      ],
      "metadata": {
        "id": "OJ5Ne3OyyQBV"
      },
      "execution_count": 36,
      "outputs": []
    },
    {
      "cell_type": "code",
      "source": [
        "G.add_edges_from(edges)"
      ],
      "metadata": {
        "id": "UT_0fVh9yW2L"
      },
      "execution_count": 37,
      "outputs": []
    },
    {
      "cell_type": "code",
      "source": [
        "#pos = nx.drawing.circular_layout(G)\n",
        "pos = nx.spring_layout(G)"
      ],
      "metadata": {
        "id": "XrnWG1VW0JTC"
      },
      "execution_count": 17,
      "outputs": []
    },
    {
      "cell_type": "code",
      "source": [
        "nx.draw(G,pos=pos, node_size=40,alpha=.2)"
      ],
      "metadata": {
        "colab": {
          "base_uri": "https://localhost:8080/",
          "height": 319
        },
        "id": "-D3WrO9Z0hkY",
        "outputId": "ae457dfd-b568-4df1-e426-77d96ee7927a"
      },
      "execution_count": 18,
      "outputs": [
        {
          "output_type": "display_data",
          "data": {
            "text/plain": [
              "<Figure size 432x288 with 1 Axes>"
            ],
            "image/png": "[encoded data removed]"
          },
          "metadata": {}
        }
      ]
    },
    {
      "cell_type": "code",
      "source": [
        "from networkx.readwrite import json_graph"
      ],
      "metadata": {
        "id": "vUuM2K6b0zQh"
      },
      "execution_count": 19,
      "outputs": []
    },
    {
      "cell_type": "code",
      "source": [
        "with open(\"assignment3_part2_eric.json\",'w') as f:\n",
        "  json.dump(json_graph.node_link_data(G),f)"
      ],
      "metadata": {
        "id": "_N7tu69Y491c"
      },
      "execution_count": 20,
      "outputs": []
    },
    {
      "cell_type": "code",
      "source": [
        "nx.write_gml(G,\"network.gml\")"
      ],
      "metadata": {
        "id": "RQKKn8GJbg56"
      },
      "execution_count": 21,
      "outputs": []
    },
    {
      "cell_type": "code",
      "source": [],
      "metadata": {
        "id": "SmWvClW5pVBa"
      },
      "execution_count": 21,
      "outputs": []
    }
  ]
}